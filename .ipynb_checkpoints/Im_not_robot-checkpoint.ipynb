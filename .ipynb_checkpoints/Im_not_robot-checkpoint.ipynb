{
 "cells": [
  {
   "cell_type": "code",
   "execution_count": 186,
   "metadata": {},
   "outputs": [],
   "source": [
    "from pyquery import PyQuery as pq"
   ]
  },
  {
   "cell_type": "code",
   "execution_count": 187,
   "metadata": {},
   "outputs": [],
   "source": [
    "url = 'https://ani.gamer.com.tw/'\n",
    "soup = pq(url)"
   ]
  },
  {
   "cell_type": "code",
   "execution_count": 188,
   "metadata": {},
   "outputs": [],
   "source": [
    "from selenium import webdriver\n",
    "from selenium.webdriver.chrome.options import Options\n",
    "from selenium.common.exceptions import NoSuchElementException"
   ]
  },
  {
   "cell_type": "code",
   "execution_count": 189,
   "metadata": {},
   "outputs": [],
   "source": [
    "prefs = {\n",
    "    'profile.default_content_setting_values.notifications' : 2\n",
    "         }\n",
    " \n",
    "chrome_options = Options()\n",
    "#設定自動瀏覽器無痕模式\n",
    "#chrome_options.add_argument('--headless')\n",
    "#chrome_options.add_argument('--disable-gpu')\n",
    "chrome_options.add_experimental_option('prefs',prefs)\n",
    "\n",
    "path = 'C:/Users/gr11n/chromedriver.exe'"
   ]
  },
  {
   "cell_type": "code",
   "execution_count": 190,
   "metadata": {},
   "outputs": [],
   "source": [
    "driver = webdriver.Chrome(executable_path=path, chrome_options=chrome_options)"
   ]
  },
  {
   "cell_type": "code",
   "execution_count": 191,
   "metadata": {},
   "outputs": [],
   "source": [
    "driver.implicitly_wait(5)\n",
    "driver.get(url)"
   ]
  },
  {
   "cell_type": "code",
   "execution_count": 192,
   "metadata": {},
   "outputs": [],
   "source": [
    "usermenu = driver.find_element_by_css_selector('body > div.sky > div > ul > li.head > a')\n",
    "usermenu.click()"
   ]
  },
  {
   "cell_type": "code",
   "execution_count": 193,
   "metadata": {},
   "outputs": [
    {
     "name": "stdout",
     "output_type": "stream",
     "text": [
      "userid:········\n",
      "Password:········\n"
     ]
    }
   ],
   "source": [
    "import getpass\n",
    "yourid = getpass.getpass('userid:')\n",
    "yourpw = getpass.getpass('Password:')"
   ]
  },
  {
   "cell_type": "code",
   "execution_count": 194,
   "metadata": {},
   "outputs": [],
   "source": [
    "from pynput.mouse import  Button,Controller"
   ]
  },
  {
   "cell_type": "code",
   "execution_count": 195,
   "metadata": {},
   "outputs": [],
   "source": [
    "mouse = Controller()"
   ]
  },
  {
   "cell_type": "code",
   "execution_count": 196,
   "metadata": {},
   "outputs": [],
   "source": [
    "from selenium.webdriver.common.action_chains import ActionChains"
   ]
  },
  {
   "cell_type": "code",
   "execution_count": 197,
   "metadata": {},
   "outputs": [],
   "source": [
    "import time"
   ]
  },
  {
   "cell_type": "code",
   "execution_count": 198,
   "metadata": {},
   "outputs": [
    {
     "name": "stdout",
     "output_type": "stream",
     "text": [
      "(1919, 1079) {'x': 816, 'y': 422} -1103 -657\n"
     ]
    }
   ],
   "source": [
    "userid = driver.find_element_by_id('uidh')\n",
    "userid.clear()\n",
    "userid.send_keys(yourid)\n",
    "\n",
    "userid = driver.find_element_by_css_selector('#checkb1 > div:nth-child(3) > input[type=\"password\"]')\n",
    "userid.clear()\n",
    "userid.send_keys(yourpw)\n",
    "\n",
    "time.sleep(2)\n",
    "\n",
    "notrobot = driver.find_element_by_css_selector('#checkb1 > div.form__recaptcha > div > div > div')\n",
    "#notrobot.click()\n",
    "driver.fullscreen_window()\n",
    "time.sleep(2)\n",
    "location = driver.find_element_by_css_selector('#checkb1 > div:nth-child(3) > label > i').location\n",
    "mouse.move(dx=+9999999,dy=+99999999)\n",
    "allcreen = mouse.position\n",
    "print(allcreen,location,-(allcreen[0]-location['x']),-(allcreen[1]-location['y']))\n",
    "#mouse.move(dx=-9999999,dy=+99999999)\n",
    "mouse.move(dx=-(allcreen[0]-location['x']),dy=-(allcreen[1]-location['y']))\n",
    "#webtop = driver.find_element_by_css_selector('body > div.header > div > div.header__logo > a > img').location\n",
    "time.sleep(1)\n",
    "mouse.move(dx=27,dy=120)\n",
    "mouse.position\n",
    "time.sleep(10)\n",
    "for i in range(1,500):\n",
    "    time.sleep(0.01)\n",
    "    mouse.move(dx=1,dy=1)\n",
    "for i in range(1,500):\n",
    "    time.sleep(0.01)\n",
    "    mouse.move(dx=-1,dy=-1)\n",
    "mouse.click(Button.left, 1)\n"
   ]
  },
  {
   "cell_type": "code",
   "execution_count": 199,
   "metadata": {},
   "outputs": [
    {
     "ename": "AttributeError",
     "evalue": "'Controller' object has no attribute 'location'",
     "output_type": "error",
     "traceback": [
      "\u001b[1;31m---------------------------------------------------------------------------\u001b[0m",
      "\u001b[1;31mAttributeError\u001b[0m                            Traceback (most recent call last)",
      "\u001b[1;32m<ipython-input-199-e1ece9bbce9d>\u001b[0m in \u001b[0;36m<module>\u001b[1;34m()\u001b[0m\n\u001b[1;32m----> 1\u001b[1;33m \u001b[0mmouse\u001b[0m\u001b[1;33m.\u001b[0m\u001b[0mlocation\u001b[0m\u001b[1;33m\u001b[0m\u001b[0m\n\u001b[0m",
      "\u001b[1;31mAttributeError\u001b[0m: 'Controller' object has no attribute 'location'"
     ]
    }
   ],
   "source": [
    "mouse.location\n"
   ]
  }
 ],
 "metadata": {
  "kernelspec": {
   "display_name": "Python 3",
   "language": "python",
   "name": "python3"
  },
  "language_info": {
   "codemirror_mode": {
    "name": "ipython",
    "version": 3
   },
   "file_extension": ".py",
   "mimetype": "text/x-python",
   "name": "python",
   "nbconvert_exporter": "python",
   "pygments_lexer": "ipython3",
   "version": "3.6.5"
  }
 },
 "nbformat": 4,
 "nbformat_minor": 2
}
