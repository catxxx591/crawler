{
 "cells": [
  {
   "cell_type": "code",
   "execution_count": 261,
   "metadata": {},
   "outputs": [],
   "source": [
    "import requests\n",
    "from bs4 import BeautifulSoup\n",
    "import sqlite3 as lite\n",
    "import time ,re,os"
   ]
  },
  {
   "cell_type": "code",
   "execution_count": 262,
   "metadata": {},
   "outputs": [],
   "source": [
    "from selenium import webdriver"
   ]
  },
  {
   "cell_type": "code",
   "execution_count": 263,
   "metadata": {},
   "outputs": [],
   "source": [
    "\n",
    "from selenium import webdriver\n",
    "from selenium.webdriver.chrome.options import Options\n",
    "from PIL import Image,ImageEnhance\n",
    "\n",
    "prefs = {\n",
    "    'profile.default_content_setting_values.notifications' : 2\n",
    "         }\n",
    " \n",
    "chrome_options = Options()\n",
    "chrome_options.add_argument('--headless')\n",
    "chrome_options.add_argument('--disable-gpu')\n",
    "chrome_options.add_experimental_option('prefs',prefs)\n",
    "\n",
    "path = 'C:/Users/gr11n/chromedriver.exe'\n",
    "\n",
    "driver = webdriver.Chrome(executable_path=path, chrome_options=chrome_options)\n"
   ]
  },
  {
   "cell_type": "code",
   "execution_count": 264,
   "metadata": {},
   "outputs": [],
   "source": [
    "#driver = webdriver.Chrome('C:/Users/gr11n/chromedriver.exe')\n",
    "driver.get('https://www.facebook.com/groups/1905603206359310/')\n",
    "time.sleep(5)\n"
   ]
  },
  {
   "cell_type": "code",
   "execution_count": 265,
   "metadata": {},
   "outputs": [],
   "source": [
    "email = driver.find_element_by_id('email')\n",
    "email.send_keys('gr11n@kimo.com')\n",
    "#email.submit()\n",
    "\n",
    "psw = driver.find_element_by_id('pass')\n",
    "psw.send_keys('try1123')\n",
    "#psw.submit()\n",
    "\n",
    "login = driver.find_element_by_id('u_0_2')\n",
    "login.click()\n",
    "driver.implicitly_wait(1)"
   ]
  },
  {
   "cell_type": "code",
   "execution_count": 266,
   "metadata": {},
   "outputs": [],
   "source": [
    "from selenium.webdriver.common.alert import Alert\n",
    "driver.get('https://www.facebook.com/groups/1905603206359310/')\n",
    "time.sleep(7)"
   ]
  },
  {
   "cell_type": "code",
   "execution_count": 267,
   "metadata": {},
   "outputs": [],
   "source": [
    "cats = []\n",
    "for i in range(1,30):\n",
    "    driver.execute_script('window.scrollTo(0,document.body.scrollHeight);')\n",
    "    time.sleep(3)"
   ]
  },
  {
   "cell_type": "code",
   "execution_count": 268,
   "metadata": {},
   "outputs": [],
   "source": [
    "soup = BeautifulSoup(driver.page_source,\"html5lib\")"
   ]
  },
  {
   "cell_type": "code",
   "execution_count": 269,
   "metadata": {},
   "outputs": [
    {
     "name": "stdout",
     "output_type": "stream",
     "text": [
      "['https://scontent.ftpe8-2.fna.fbcdn.net/v/t1.0-0/p526x296/49428921_2234978846745271_1247570639506636800_n.jpg?_nc_cat=100&_nc_ht=scontent.ftpe8-2.fna&oh=b43caedb946d96dda8c19d7c436ee778&oe=5CC72311', 'https://scontent.ftpe8-2.fna.fbcdn.net/v/t15.5256-10/48786201_10155417825039058_8387006058802970624_n.jpg?_nc_cat=101&_nc_ht=scontent.ftpe8-2.fna&oh=c68ee4468097b5161b7d9857e5ea15dc&oe=5C8B420A', 'https://scontent.ftpe8-1.fna.fbcdn.net/v/t1.0-0/p403x403/49947605_2516091308417769_5818012490717462528_n.jpg?_nc_cat=105&_nc_ht=scontent.ftpe8-1.fna&oh=84b3358d3a5a9ff51c7e62864fe73008&oe=5C8ECDDE', 'https://scontent.ftpe8-4.fna.fbcdn.net/v/t1.0-0/p403x403/50035239_2231913086826996_512183581716512768_n.jpg?_nc_cat=102&_nc_ht=scontent.ftpe8-4.fna&oh=e8b5487de3dd6cd8d2db6fd966107ea5&oe=5C8EC53A', 'https://scontent.ftpe8-3.fna.fbcdn.net/v/t1.0-0/p403x403/49571320_349410259174970_6595287733185282048_n.jpg?_nc_cat=107&_nc_ht=scontent.ftpe8-3.fna&oh=1263d1408657fc61410d8579755385a3&oe=5CD17191', 'https://scontent.ftpe8-2.fna.fbcdn.net/v/t1.0-0/p403x403/49661451_2513735918653308_3765049107123535872_n.jpg?_nc_cat=101&_nc_ht=scontent.ftpe8-2.fna&oh=782f2902deb44d1c49b06b0869009d6d&oe=5C9314DD', 'https://scontent.ftpe8-3.fna.fbcdn.net/v/t1.0-0/p261x260/50012391_2474839235866024_1199920678891945984_n.jpg?_nc_cat=111&_nc_ht=scontent.ftpe8-3.fna&oh=385a2772c4eb3e4f201e2f197ef4889c&oe=5CD77060', 'https://scontent.ftpe8-3.fna.fbcdn.net/v/t1.0-0/p261x260/49528550_1008320252687375_7360762729101000704_n.jpg?_nc_cat=111&_nc_ht=scontent.ftpe8-3.fna&oh=e7ba39da7bcb950151a7d109a0af37d1&oe=5CCA99EE', 'https://scontent.ftpe8-2.fna.fbcdn.net/v/t1.0-0/p261x260/49454779_1008281609357906_5659139820782354432_n.jpg?_nc_cat=103&_nc_ht=scontent.ftpe8-2.fna&oh=4a4ae3df556c90a0406979a98afc2dc2&oe=5CC3780E', 'https://scontent.ftpe8-3.fna.fbcdn.net/v/t1.0-0/p296x100/35771100_1829106160446072_3491555313520214016_n.jpg?_nc_cat=111&_nc_ht=scontent.ftpe8-3.fna&oh=dc44f4a19f0ada3cc6287325a0fe6f33&oe=5CD2D644', 'https://scontent.ftpe8-1.fna.fbcdn.net/v/t1.0-0/p403x403/49108988_10210653100084217_3295617393648205824_n.jpg?_nc_cat=108&_nc_ht=scontent.ftpe8-1.fna&oh=c34d6df116ae41090bb3747442aa842c&oe=5CCAAB9E', 'https://scontent.ftpe8-4.fna.fbcdn.net/v/t1.0-0/p526x296/49778137_2373957499290790_8209181983113216000_n.jpg?_nc_cat=110&_nc_ht=scontent.ftpe8-4.fna&oh=96ea61b2c53da9fdb2d72a606e28735a&oe=5CC52002', 'https://scontent.ftpe8-3.fna.fbcdn.net/v/t1.0-0/p296x100/49236544_2034535396632678_43191320704974848_n.jpg?_nc_cat=106&_nc_ht=scontent.ftpe8-3.fna&oh=eec9399f67880badbf95ffff378d8cba&oe=5CCF01BD', 'https://scontent.ftpe8-1.fna.fbcdn.net/v/t1.0-0/p403x403/49682528_584954351928080_6180626997446705152_n.jpg?_nc_cat=105&_nc_ht=scontent.ftpe8-1.fna&oh=a52e41ba15b34d9cfb22a34030dbb77e&oe=5C8DF88E', 'https://scontent.ftpe8-1.fna.fbcdn.net/v/t15.5256-10/48609985_2555315267817775_1216893363148554240_n.jpg?_nc_cat=109&_nc_ht=scontent.ftpe8-1.fna&oh=9563ac06e2f8fd265378a6d0f42279b0&oe=5CC74C4C', 'https://scontent.ftpe8-1.fna.fbcdn.net/v/t1.0-0/s350x350/49296058_2232189516800260_3776771881055551488_n.jpg?_nc_cat=105&_nc_ht=scontent.ftpe8-1.fna&oh=a39e9d4547be73a0c3559380ffed9d3c&oe=5CBE0FDD', 'https://scontent.ftpe8-4.fna.fbcdn.net/v/t1.0-0/p261x260/49464921_2457134287648819_5022511507284426752_n.jpg?_nc_cat=102&_nc_ht=scontent.ftpe8-4.fna&oh=2fdcc295dd0897c05057699c3c5d7ae1&oe=5CC1B53B', 'https://scontent.ftpe8-2.fna.fbcdn.net/v/t15.5256-10/48850775_2495418120487390_2613282725381013504_n.jpg?_nc_cat=103&_nc_ht=scontent.ftpe8-2.fna&oh=a0851478f6d1104f1f620d7001e2ed1e&oe=5CCE608F', 'https://scontent.ftpe8-1.fna.fbcdn.net/v/t1.0-0/p261x260/49205168_2733439083340027_5210000818463309824_n.jpg?_nc_cat=105&_nc_ht=scontent.ftpe8-1.fna&oh=351c9d6daf7bd6035566c1c432c5835d&oe=5CC56022', 'https://scontent.ftpe8-4.fna.fbcdn.net/v/t1.0-0/s261x260/45576452_1178034399001333_1496272314214383616_n.jpg?_nc_cat=102&_nc_ht=scontent.ftpe8-4.fna&oh=177524ac3d6f8c33d17567f9185dea2e&oe=5CD37E46', 'https://scontent.ftpe8-2.fna.fbcdn.net/v/t1.0-0/s261x260/49147260_2522069718019728_394553614414118912_n.jpg?_nc_cat=103&_nc_ht=scontent.ftpe8-2.fna&oh=e12117c15337ad91d796a360a77640e8&oe=5CC45105', 'https://scontent.ftpe8-2.fna.fbcdn.net/v/t1.0-0/p180x540/48393917_2482403628455506_1011471111809925120_n.jpg?_nc_cat=103&_nc_ht=scontent.ftpe8-2.fna&oh=ca86b054a99b17e02cf81ce579e50164&oe=5C92E346', 'https://scontent.ftpe8-1.fna.fbcdn.net/v/t1.0-0/s261x260/48382721_1222642051218448_6287847024880517120_n.jpg?_nc_cat=108&_nc_ht=scontent.ftpe8-1.fna&oh=f90a5136ff106d21bc88cbddb9ccdb16&oe=5C913E70', 'https://scontent.ftpe8-2.fna.fbcdn.net/v/t1.0-0/p403x403/48960122_223632135239896_3689066402603335680_n.jpg?_nc_cat=101&_nc_ht=scontent.ftpe8-2.fna&oh=b772140e270f2565c45891f5572799bf&oe=5CD64061', 'https://scontent.ftpe8-4.fna.fbcdn.net/v/t1.0-0/s261x260/49117018_2510437532306038_8229996562860736512_n.jpg?_nc_cat=110&_nc_ht=scontent.ftpe8-4.fna&oh=6839589228a1940b2221bccc16225562&oe=5CD9EDBC', 'https://scontent.ftpe8-1.fna.fbcdn.net/v/t1.0-0/s261x260/49195126_2486890254660322_398424238941274112_n.jpg?_nc_cat=105&_nc_ht=scontent.ftpe8-1.fna&oh=00f21e6e8f3ab9262e8c63e5b011c053&oe=5CD03FE5', 'https://scontent.ftpe8-1.fna.fbcdn.net/v/t1.0-0/s261x260/49140240_2519872364906130_7102266351409954816_n.jpg?_nc_cat=105&_nc_ht=scontent.ftpe8-1.fna&oh=f194507854c9b33becc9ec591f11ae6e&oe=5CCC5BFF', 'https://scontent.ftpe8-3.fna.fbcdn.net/v/t1.0-0/q82/p526x296/49124845_10210634725304859_7651561603069902848_n.jpg?_nc_cat=107&_nc_ht=scontent.ftpe8-3.fna&oh=f71ff94428bf5ea60d9233eb6fbcf544&oe=5CD2DAFA', 'https://scontent.ftpe8-4.fna.fbcdn.net/v/t1.0-0/p296x100/48413168_533887250461464_5036849181860298752_n.jpg?_nc_cat=104&_nc_ht=scontent.ftpe8-4.fna&oh=e6d7412d3ff76b44db4717184366020b&oe=5CCEC170', 'https://scontent.ftpe8-4.fna.fbcdn.net/v/t1.0-0/p261x260/49172815_2435832316432968_2906393928137703424_n.jpg?_nc_cat=102&_nc_ht=scontent.ftpe8-4.fna&oh=3b3e39ef1692e57b6fd222157c68d7ca&oe=5CD443BA', 'https://scontent.ftpe8-4.fna.fbcdn.net/v/t15.5256-10/48313961_2088573487875374_1167136003815636992_n.jpg?_nc_cat=102&_nc_ht=scontent.ftpe8-4.fna&oh=c10f4dddc54b36885c5252638effde13&oe=5CCED15B', 'https://scontent.ftpe8-2.fna.fbcdn.net/v/t1.0-0/s261x260/49057039_2518998238326876_2509459862459514880_n.jpg?_nc_cat=103&_nc_ht=scontent.ftpe8-2.fna&oh=7d9e8ed5068a1610e0606249c073fff2&oe=5CD21923', 'https://scontent.ftpe8-1.fna.fbcdn.net/v/t1.0-0/q85/p403x403/48950326_2317367471621143_548774602839425024_n.jpg?_nc_cat=105&_nc_ht=scontent.ftpe8-1.fna&oh=6efda7e9fbeeee67b2b5638e40e3a763&oe=5CCD472F', 'https://scontent.ftpe8-2.fna.fbcdn.net/v/t1.0-0/p261x260/48375506_1231345490353530_4451824196049174528_n.jpg?_nc_cat=101&_nc_ht=scontent.ftpe8-2.fna&oh=ce594a5d02c4d6d58a84b6dfd8e72610&oe=5CBFC3AE', 'https://scontent.ftpe8-4.fna.fbcdn.net/v/t1.0-0/s600x600/48418243_989817171211061_9021907310116601856_n.jpg?_nc_cat=110&_nc_ht=scontent.ftpe8-4.fna&oh=4f347029c7dca47827764352f0228416&oe=5CCDD56A', 'https://scontent.ftpe8-4.fna.fbcdn.net/v/t1.0-0/q90/p261x260/48395597_2257984267782275_3414607577093242880_n.jpg?_nc_cat=102&_nc_ht=scontent.ftpe8-4.fna&oh=2eed9091779924d0ddf28690e0d4d027&oe=5CBE578E', 'https://scontent.ftpe8-4.fna.fbcdn.net/v/t1.0-0/q84/p280x280/48372623_2219946614691217_5263446042875002880_n.jpg?_nc_cat=104&_nc_ht=scontent.ftpe8-4.fna&oh=47ef2bab53a78cc5b5ef036fbbaddeb3&oe=5CCECC58', 'https://scontent.ftpe8-1.fna.fbcdn.net/v/t1.0-0/p526x296/48413116_2221410554544823_2519853580236619776_n.jpg?_nc_cat=105&_nc_ht=scontent.ftpe8-1.fna&oh=7425338fb008f8350d133fdbf77da254&oe=5C920115', 'https://scontent.ftpe8-2.fna.fbcdn.net/v/t1.0-0/p261x260/48392102_2153430054678385_6853930826959159296_n.jpg?_nc_cat=101&_nc_ht=scontent.ftpe8-2.fna&oh=98bade391434700462e4c5f72ad702e5&oe=5CBCA12F', 'https://scontent.ftpe8-3.fna.fbcdn.net/v/t1.0-0/p261x260/48421598_10210484602390273_6632314504510177280_n.jpg?_nc_cat=106&_nc_ht=scontent.ftpe8-3.fna&oh=807390ce79654038c3525c1ad356a089&oe=5CCD4139', 'https://scontent.ftpe8-1.fna.fbcdn.net/v/t1.0-0/s261x260/48382721_1222642051218448_6287847024880517120_n.jpg?_nc_cat=108&_nc_ht=scontent.ftpe8-1.fna&oh=f90a5136ff106d21bc88cbddb9ccdb16&oe=5C913E70', 'https://scontent.ftpe8-4.fna.fbcdn.net/v/t1.0-0/p403x403/48987940_2516160755277291_3673415932618735616_n.jpg?_nc_cat=110&_nc_ht=scontent.ftpe8-4.fna&oh=8cf2b1e91f36fe981cbf3ce5448b3b30&oe=5CCF921A', 'https://scontent.ftpe8-1.fna.fbcdn.net/v/t15.5256-10/48604578_2472401569443745_33775644290580480_n.jpg?_nc_cat=108&_nc_ht=scontent.ftpe8-1.fna&oh=b40e6b9b8f2aab00bcb11cbf07ed637f&oe=5C93A22E', 'https://scontent.ftpe8-1.fna.fbcdn.net/v/t1.0-0/p180x540/48416015_2182697205081977_8172335669134229504_n.jpg?_nc_cat=105&_nc_ht=scontent.ftpe8-1.fna&oh=6fa78196850a4fd3349b30b513fa55b3&oe=5CD24A64', 'https://scontent.ftpe8-1.fna.fbcdn.net/v/t15.5256-10/47838557_2475480512466483_552636242294996992_n.jpg?_nc_cat=105&_nc_ht=scontent.ftpe8-1.fna&oh=f57a09ddb80c68bac1f10b7a2c4a9783&oe=5CC3D400', 'https://scontent.ftpe8-4.fna.fbcdn.net/v/t1.0-0/p526x296/48424612_1116348178547593_7724480149072117760_n.jpg?_nc_cat=102&_nc_ht=scontent.ftpe8-4.fna&oh=82ebf4f1a4a821b973944c255cee11aa&oe=5CCD5D46', 'https://scontent.ftpe8-4.fna.fbcdn.net/v/t1.0-0/p180x540/48385316_591303731314513_260642027388010496_n.jpg?_nc_cat=104&_nc_ht=scontent.ftpe8-4.fna&oh=2b12b1dc87bc75fc5a120fdd7b3a7b6a&oe=5CCF8D64', 'https://scontent.ftpe8-2.fna.fbcdn.net/v/t1.0-0/s261x260/48421237_765344317171981_6912712037135024128_n.jpg?_nc_cat=101&_nc_ht=scontent.ftpe8-2.fna&oh=e757455c68db649708de7338e326cc04&oe=5CD4A33D', 'https://scontent.ftpe8-4.fna.fbcdn.net/v/t1.0-0/s261x260/48369215_2251394834872020_7449239360341278720_n.jpg?_nc_cat=104&_nc_ht=scontent.ftpe8-4.fna&oh=ec5527422160dcea6f9be6a5d98f93d2&oe=5CD49034', 'https://scontent.ftpe8-4.fna.fbcdn.net/v/t15.5256-10/47780253_2224774737803206_2038676917913124864_n.jpg?_nc_cat=104&_nc_ht=scontent.ftpe8-4.fna&oh=72f40a7f0e8e286d4a9776643f7f3b10&oe=5C90D89B', 'https://scontent.ftpe8-2.fna.fbcdn.net/v/t1.0-0/s640x640/48388135_10213008842155796_5113202765396443136_n.jpg?_nc_cat=103&_nc_ht=scontent.ftpe8-2.fna&oh=67d21ea7e7a621a1949434000081931a&oe=5C8B8113', 'https://scontent.ftpe8-1.fna.fbcdn.net/v/t1.0-0/p261x260/48418241_2106491122707588_5533053092938907648_n.jpg?_nc_cat=109&_nc_ht=scontent.ftpe8-1.fna&oh=42199a7724805a4ce0a08fe1978578f0&oe=5CC26730', 'https://scontent.ftpe8-1.fna.fbcdn.net/v/t1.0-0/q86/p261x260/48367477_10218681499853205_4080941464958271488_n.jpg?_nc_cat=109&_nc_ht=scontent.ftpe8-1.fna&oh=a963315f6cf9b35430b31ed6c4937f44&oe=5CC5DB96', 'https://scontent.ftpe8-4.fna.fbcdn.net/v/t15.5256-10/47782135_10210591351340537_1504556232386543616_n.jpg?_nc_cat=104&_nc_ht=scontent.ftpe8-4.fna&oh=89ca9482036c73c2fe8210a699df9ac4&oe=5CC43544', 'https://scontent.ftpe8-4.fna.fbcdn.net/v/t1.0-0/p261x260/48385889_2513318265561540_6734258083016474624_n.jpg?_nc_cat=110&_nc_ht=scontent.ftpe8-4.fna&oh=bf6c66bab7a01070422f3102ce49fc2c&oe=5CCE86CC', 'https://scontent.ftpe8-4.fna.fbcdn.net/v/t1.0-0/p403x403/47688431_2074852232581431_827561801901146112_n.jpg?_nc_cat=110&_nc_ht=scontent.ftpe8-4.fna&oh=35e8e67831ebc367eaf8e371cc874d96&oe=5CD687BD', 'https://scontent.ftpe8-4.fna.fbcdn.net/v/t1.0-0/p403x403/48379714_10209706969350529_6966434866757894144_n.jpg?_nc_cat=102&_nc_ht=scontent.ftpe8-4.fna&oh=71dd87b9b919ee78c5ccc67cccfc0d2f&oe=5C9268F9', 'https://scontent.ftpe8-2.fna.fbcdn.net/v/t1.0-0/s280x280/26906965_2263385160554853_1558745290429944847_n.jpg?_nc_cat=101&_nc_ht=scontent.ftpe8-2.fna&oh=67fa70b1e9647d5ff5a4cdf0b77e210d&oe=5CD3B2AC', 'https://scontent.ftpe8-4.fna.fbcdn.net/v/t1.0-0/p261x260/48364222_10218658475437609_4322490966851190784_n.jpg?_nc_cat=104&_nc_ht=scontent.ftpe8-4.fna&oh=c75f581d20151290c7e7b6d299cfcaa8&oe=5CD1B223', 'https://scontent.ftpe8-4.fna.fbcdn.net/v/t1.0-0/p403x403/48277519_721060074931076_7364775817693364224_n.jpg?_nc_cat=110&_nc_ht=scontent.ftpe8-4.fna&oh=02474ba0e1e7e1cb7c014bc3e6028e98&oe=5CCE6DDB', 'https://scontent.ftpe8-1.fna.fbcdn.net/v/t15.5256-10/48545240_2182320638455128_5614558618595622912_n.jpg?_nc_cat=109&_nc_ht=scontent.ftpe8-1.fna&oh=b53bc237d7c389e8be9a470bb1d5d0fa&oe=5CC81260', 'https://scontent.ftpe8-1.fna.fbcdn.net/v/t1.0-0/p350x350/48361863_1448638531936201_1731266815545311232_o.jpg?_nc_cat=108&_nc_ht=scontent.ftpe8-1.fna&oh=13b051a54532ea1d241b8e8505803f2d&oe=5CCDC815', 'https://scontent.ftpe8-3.fna.fbcdn.net/v/t1.0-0/q82/p526x296/48391156_10155381216644058_5125292024592859136_n.jpg?_nc_cat=111&_nc_ht=scontent.ftpe8-3.fna&oh=6380b97b9bbc96ad95c0f7b85d302cea&oe=5CC54E3B', 'https://scontent.ftpe8-1.fna.fbcdn.net/v/t1.0-0/p261x260/48365695_2170041729687435_4899265157277941760_n.jpg?_nc_cat=105&_nc_ht=scontent.ftpe8-1.fna&oh=0eb9bbe80c4be20a85a797ebf607de16&oe=5CD7641C', 'https://scontent.ftpe8-2.fna.fbcdn.net/v/t1.0-0/p403x403/48388156_2437955359552490_8657891011961290752_n.jpg?_nc_cat=101&_nc_ht=scontent.ftpe8-2.fna&oh=defb29e01f709c8dc9923d3bc9f43010&oe=5CCFD86D', 'https://scontent.ftpe8-3.fna.fbcdn.net/v/t15.5256-10/47589327_2188416591208734_8469756850097618944_n.jpg?_nc_cat=107&_nc_ht=scontent.ftpe8-3.fna&oh=1be115b43231007c5f5c2cfb97034d73&oe=5C8B129A', 'https://scontent.ftpe8-4.fna.fbcdn.net/v/t1.0-0/s600x600/47689172_2003921546360730_3434970880332005376_n.jpg?_nc_cat=104&_nc_ht=scontent.ftpe8-4.fna&oh=75c2335136000f0aa3b24e7695b98afc&oe=5CD79BDE', 'https://scontent.ftpe8-3.fna.fbcdn.net/v/t1.0-0/p261x260/48269235_2263349307229443_7356825661429776384_n.jpg?_nc_cat=107&_nc_ht=scontent.ftpe8-3.fna&oh=21b71a1bd829af8de2395a176f4db705&oe=5C8E23CE', 'https://scontent.ftpe8-2.fna.fbcdn.net/v/t1.0-0/p526x296/48266849_2464469483569066_170391325546381312_n.jpg?_nc_cat=101&_nc_ht=scontent.ftpe8-2.fna&oh=f6425404a56bdfc0faff16cccdc26800&oe=5CD4870F', 'https://scontent.ftpe8-4.fna.fbcdn.net/v/t1.0-0/p403x403/47389932_10217236009548924_5780891612364144640_n.jpg?_nc_cat=104&_nc_ht=scontent.ftpe8-4.fna&oh=ba877c819d80e16f3b6226fd1de8dfb9&oe=5CC094CC', 'https://scontent.ftpe8-3.fna.fbcdn.net/v/t1.0-0/s261x260/47689140_1182904458526913_8081797084224684032_n.jpg?_nc_cat=106&_nc_ht=scontent.ftpe8-3.fna&oh=a7f40e9b96ec237fa324dc6579b0d0ce&oe=5CD7664F', 'https://scontent.ftpe8-1.fna.fbcdn.net/v/t1.0-0/s600x600/48223113_2001300313289520_4772103132832333824_n.jpg?_nc_cat=105&_nc_ht=scontent.ftpe8-1.fna&oh=faf2f7a33151814bc1e2fb5e5deca628&oe=5CBFDD39', 'https://scontent.ftpe8-4.fna.fbcdn.net/v/t1.0-0/p296x100/47685109_2207875722566587_5933460520144207872_n.jpg?_nc_cat=102&_nc_ht=scontent.ftpe8-4.fna&oh=fad18f03a01c88668c16eb1c72cd3237&oe=5CCFF476', 'https://scontent.ftpe8-4.fna.fbcdn.net/v/t1.0-0/p403x403/47579424_2507803509446349_1338521919233720320_n.jpg?_nc_cat=110&_nc_ht=scontent.ftpe8-4.fna&oh=e94b635ab6fc51c97f3c29d2beb619f5&oe=5C93D956', 'https://scontent.ftpe8-4.fna.fbcdn.net/v/t1.0-0/p261x260/47358934_2391984970874499_4344104045443547136_n.jpg?_nc_cat=110&_nc_ht=scontent.ftpe8-4.fna&oh=8b22fe5fa6083c6d7772cc5823dc0a8b&oe=5CC32B23', 'https://scontent.ftpe8-3.fna.fbcdn.net/v/t1.0-0/s600x600/48088530_213163602953416_9113526500207886336_n.jpg?_nc_cat=111&_nc_ht=scontent.ftpe8-3.fna&oh=d09b0e0defa5744ceceb051cbd8536d6&oe=5CCB4643', 'https://scontent.ftpe8-1.fna.fbcdn.net/v/t1.0-0/p403x403/47684217_1945564202227774_2903311198181130240_n.jpg?_nc_cat=105&_nc_ht=scontent.ftpe8-1.fna&oh=c69f7c0364a3825477c740e8596d7082&oe=5CC07982', 'https://scontent.ftpe8-4.fna.fbcdn.net/v/t1.0-0/q87/p526x296/47684894_10156986178523724_6854264112126361600_n.jpg?_nc_cat=104&_nc_ht=scontent.ftpe8-4.fna&oh=cb6630a76bffd38576813fbbcf452fa9&oe=5CC94E02', 'https://scontent.ftpe8-4.fna.fbcdn.net/v/t1.0-0/s600x600/48252734_10156923893114394_8690580051000819712_n.jpg?_nc_cat=110&_nc_ht=scontent.ftpe8-4.fna&oh=7c11e8a47d975117db9e5caf3cbde4f4&oe=5CBF53D3', 'https://scontent.ftpe8-4.fna.fbcdn.net/v/t1.0-0/q81/p261x260/48079105_10210555170956050_3761542820377133056_n.jpg?_nc_cat=102&_nc_ht=scontent.ftpe8-4.fna&oh=18edc4197fc313e644f262b1c472937d&oe=5CD51019', 'https://scontent.ftpe8-3.fna.fbcdn.net/v/t1.0-0/q81/p403x403/47571266_2431086360239390_839056873846996992_n.jpg?_nc_cat=106&_nc_ht=scontent.ftpe8-3.fna&oh=503b4861322b0fac72ca25e65b3a508f&oe=5CC20546', 'https://scontent.ftpe8-2.fna.fbcdn.net/v/t1.0-0/s261x260/47344693_2469692329713892_3723600718507016192_n.jpg?_nc_cat=101&_nc_ht=scontent.ftpe8-2.fna&oh=b664f9fdd361af269e39b1f442af10b4&oe=5C92BF5D', 'https://scontent.ftpe8-4.fna.fbcdn.net/v/t1.0-0/s261x260/47574233_1182322378585121_1727524662079913984_n.jpg?_nc_cat=102&_nc_ht=scontent.ftpe8-4.fna&oh=11e549f4a2011bcb47e8bfc0e37b19a6&oe=5CC4F071', 'https://scontent.ftpe8-3.fna.fbcdn.net/v/t1.0-0/p403x403/48243145_2590669384291457_2017891604072759296_n.jpg?_nc_cat=111&_nc_ht=scontent.ftpe8-3.fna&oh=e39b0de928a4207799838e459894ec3b&oe=5CC9C12E', 'https://scontent.ftpe8-3.fna.fbcdn.net/v/t15.5256-10/46998423_2505265176366849_6015073273954435072_n.jpg?_nc_cat=111&_nc_ht=scontent.ftpe8-3.fna&oh=785979a50c5dcbfc86aec3afcd87111a&oe=5CC165F7', 'https://scontent.ftpe8-2.fna.fbcdn.net/v/t1.0-0/p403x403/47573165_2515629401786049_34581148227076096_n.jpg?_nc_cat=100&_nc_ht=scontent.ftpe8-2.fna&oh=09c0d5e56b97cb291560c199d0979dfe&oe=5CC6E346', 'https://scontent.ftpe8-3.fna.fbcdn.net/v/t1.0-0/p261x260/42752016_1833508533423657_5968614629893472256_n.jpg?_nc_cat=111&_nc_ht=scontent.ftpe8-3.fna&oh=23e530458c1d5e39a549ae8afb4f990f&oe=5CBCDCF1', 'https://scontent.ftpe8-2.fna.fbcdn.net/v/t1.0-0/q83/s261x260/48199376_1181639581986734_2965207247489073152_n.jpg?_nc_cat=101&_nc_ht=scontent.ftpe8-2.fna&oh=da912716221528fad7532fcd9b7ac574&oe=5C909394', 'https://scontent.ftpe8-2.fna.fbcdn.net/v/t1.0-0/p296x100/47578991_210908046512305_5204662543481569280_n.jpg?_nc_cat=101&_nc_ht=scontent.ftpe8-2.fna&oh=e30e59221206ab4572e9a081a21db967&oe=5CC128C7', 'https://scontent.ftpe8-1.fna.fbcdn.net/v/t1.0-0/p403x403/47577504_2087716734651873_4570836374021734400_n.jpg?_nc_cat=105&_nc_ht=scontent.ftpe8-1.fna&oh=9d2366f04fbe1d6111c9f8a565ccac3f&oe=5C8CD532', 'https://scontent.ftpe8-2.fna.fbcdn.net/v/t1.0-0/s600x600/47276793_1252226891583170_7336524734001053696_n.jpg?_nc_cat=101&_nc_ht=scontent.ftpe8-2.fna&oh=2e271945c8d4dca84e1e13e14686748b&oe=5C8B81F9', 'https://scontent.ftpe8-1.fna.fbcdn.net/v/t1.0-0/p180x540/47683670_2460255960670273_2242951051479089152_n.jpg?_nc_cat=108&_nc_ht=scontent.ftpe8-1.fna&oh=d5d3ba7903b4e6b9d13cd557153fdb1c&oe=5CBF733B', 'https://scontent.ftpe8-3.fna.fbcdn.net/v/t1.0-0/p261x260/47571619_10210542121589824_4689237756105195520_n.jpg?_nc_cat=106&_nc_ht=scontent.ftpe8-3.fna&oh=1663f5b32e91217336f19cf5f34d5e93&oe=5CC48858', 'https://scontent.ftpe8-4.fna.fbcdn.net/v/t1.0-0/p403x403/47574953_210318443237932_1750706434527461376_n.jpg?_nc_cat=104&_nc_ht=scontent.ftpe8-4.fna&oh=98fb97074a4674618f21af15ee7c9fb0&oe=5C8B7EF5', 'https://scontent.ftpe8-2.fna.fbcdn.net/v/t1.0-0/p403x403/47490279_2101560193197440_1452992774881148928_n.jpg?_nc_cat=100&_nc_ht=scontent.ftpe8-2.fna&oh=4e06cd3e8d8105a2110b22165a9aa5ec&oe=5C8FE092', 'https://scontent.ftpe8-1.fna.fbcdn.net/v/t1.0-0/p403x403/47575118_210271993242577_7454666876153495552_n.jpg?_nc_cat=105&_nc_ht=scontent.ftpe8-1.fna&oh=ae20478d0d94a321978eb96f62e05ee6&oe=5C928EA4', 'https://scontent.ftpe8-4.fna.fbcdn.net/v/t1.0-0/p261x260/47685498_2693461800671089_9084799650103296000_n.jpg?_nc_cat=110&_nc_ht=scontent.ftpe8-4.fna&oh=6cb360e4db227e256aae9ae609597496&oe=5C8BD686', 'https://scontent.ftpe8-3.fna.fbcdn.net/v/t1.0-0/p403x403/47423045_2424792614202098_6465986600277901312_n.jpg?_nc_cat=111&_nc_ht=scontent.ftpe8-3.fna&oh=e7eab7f7a7b14061c81e85433091734b&oe=5CBD769A', 'https://scontent.ftpe8-2.fna.fbcdn.net/v/t1.0-0/p526x296/47498330_10210532132700108_4898227183941582848_n.jpg?_nc_cat=100&_nc_ht=scontent.ftpe8-2.fna&oh=2571b4f1aa17d4a9ececb0ea430698bd&oe=5CCE3354', 'https://scontent.ftpe8-3.fna.fbcdn.net/v/t1.0-0/p296x100/47432194_2527234880624917_2559231919170519040_n.jpg?_nc_cat=107&_nc_ht=scontent.ftpe8-3.fna&oh=fb447910d87a52d59089e0e44c70f30b&oe=5CC29205', 'https://scontent.ftpe8-3.fna.fbcdn.net/v/t1.0-0/p526x296/47290765_2451481154867620_1176186805578366976_n.jpg?_nc_cat=106&_nc_ht=scontent.ftpe8-3.fna&oh=b4dab533fc03a176e52ebc5dc75717fd&oe=5CC3D046', 'https://scontent.ftpe8-3.fna.fbcdn.net/v/t15.5256-10/46126229_2627480197269661_240522046931468288_n.jpg?_nc_cat=106&_nc_ht=scontent.ftpe8-3.fna&oh=1e5ccd9bf5a2f71130571cb1690b2b5c&oe=5CBEF6D4', 'https://scontent.ftpe8-2.fna.fbcdn.net/v/t1.0-0/s600x600/47358312_2486247544724874_4142919964753395712_n.jpg?_nc_cat=101&_nc_ht=scontent.ftpe8-2.fna&oh=fcef93e37e3bf5aaed3bdd30cf1d8529&oe=5CBF1D63', 'https://scontent.ftpe8-1.fna.fbcdn.net/v/t1.0-0/p261x260/47510930_10217915281902373_3242682029099188224_n.jpg?_nc_cat=109&_nc_ht=scontent.ftpe8-1.fna&oh=7be63bb4ee6be86009ff259d676d8736&oe=5CD684A6', 'https://scontent.ftpe8-2.fna.fbcdn.net/v/t1.0-0/p261x260/47269252_10210521732560111_7258182799650193408_n.jpg?_nc_cat=101&_nc_ht=scontent.ftpe8-2.fna&oh=4cbeb5575595c5a9c88599588a52566f&oe=5CC4A964', 'https://scontent.ftpe8-4.fna.fbcdn.net/v/t1.0-0/p403x403/47189901_568384456918403_1199342507574427648_n.jpg?_nc_cat=110&_nc_ht=scontent.ftpe8-4.fna&oh=759e6267d99d891b00202af6ea88d3d0&oe=5C930800', 'https://scontent.ftpe8-1.fna.fbcdn.net/v/t1.0-0/s280x280/47258265_2186251471393709_4365884997127634944_n.jpg?_nc_cat=109&_nc_ht=scontent.ftpe8-1.fna&oh=247dcff2c789ef516afc7cf21c270c34&oe=5CCECC51', 'https://scontent.ftpe8-4.fna.fbcdn.net/v/t1.0-0/p261x260/47207824_1957599037688678_3440496072290467840_n.jpg?_nc_cat=102&_nc_ht=scontent.ftpe8-4.fna&oh=176674f3a99411355c98c5a8902890f3&oe=5CCDA6BF', 'https://scontent.ftpe8-2.fna.fbcdn.net/v/t1.0-0/p261x260/47257325_1820855378027067_4621302329944047616_n.jpg?_nc_cat=103&_nc_ht=scontent.ftpe8-2.fna&oh=4830ea1c4bde94ab0e303fcb0b61cc29&oe=5CCAC255', 'https://scontent.ftpe8-2.fna.fbcdn.net/v/t1.0-0/p296x100/47384472_206730990263344_7333415091779403776_n.jpg?_nc_cat=103&_nc_ht=scontent.ftpe8-2.fna&oh=ad914a4bcc45b3931e3c36cbfc879895&oe=5CCD38AB', 'https://scontent.ftpe8-1.fna.fbcdn.net/v/t1.0-0/p403x403/47369661_10205220189059965_230239276749553664_n.jpg?_nc_cat=108&_nc_ht=scontent.ftpe8-1.fna&oh=56f0c5552c2aff429eb3b9bf5cfe16e1&oe=5CBD588C', 'https://scontent.ftpe8-1.fna.fbcdn.net/v/t1.0-0/p296x100/47142050_963079980544830_828040080869294080_n.jpg?_nc_cat=105&_nc_ht=scontent.ftpe8-1.fna&oh=9eeb68ff630607428b39eb9002040273&oe=5CD3AE9D', 'https://scontent.ftpe8-3.fna.fbcdn.net/v/t1.0-0/p261x260/47423871_206093970327046_151522219955060736_n.jpg?_nc_cat=111&_nc_ht=scontent.ftpe8-3.fna&oh=0eef8880815b38060949c2eb7b2ede8c&oe=5CD98E70', 'https://scontent.ftpe8-4.fna.fbcdn.net/v/t1.0-0/p261x260/47112808_948395665357485_9109976950255910912_n.jpg?_nc_cat=104&_nc_ht=scontent.ftpe8-4.fna&oh=804200e89dea8e17d99d24073a730286&oe=5CD7C87D', 'https://scontent.ftpe8-1.fna.fbcdn.net/v/t1.0-0/p526x296/47225707_10210948681192142_5219490707617611776_n.jpg?_nc_cat=105&_nc_ht=scontent.ftpe8-1.fna&oh=54a0d20438aec3a3668d926edca7a5d7&oe=5CCD6EDD', 'https://scontent.ftpe8-4.fna.fbcdn.net/v/t1.0-0/p261x260/47240946_2150168905001474_66556926342725632_n.jpg?_nc_cat=110&_nc_ht=scontent.ftpe8-4.fna&oh=3d729ed2dfb4835b5e8c406061825a95&oe=5CD9C625', 'https://scontent.ftpe8-1.fna.fbcdn.net/v/t1.0-0/p403x403/47174318_10218518971030086_5314635477448392704_n.jpg?_nc_cat=105&_nc_ht=scontent.ftpe8-1.fna&oh=ce66bfacbeefcbb695f7d456b2324f81&oe=5CC42938', 'https://scontent.ftpe8-1.fna.fbcdn.net/v/t1.0-0/q83/p526x296/46795884_10218524527408992_239468770626633728_n.jpg?_nc_cat=109&_nc_ht=scontent.ftpe8-1.fna&oh=8ccd2d49df3ea6ef0187962fdae6b4b5&oe=5CC72354', 'https://scontent.ftpe8-4.fna.fbcdn.net/v/t1.0-0/p261x260/46994897_2238716559480141_5133278396020686848_n.jpg?_nc_cat=110&_nc_ht=scontent.ftpe8-4.fna&oh=61cd2190f72d4259cdfe39b73c319c1b&oe=5CD73126', 'https://scontent.ftpe8-2.fna.fbcdn.net/v/t1.0-0/s526x296/46846064_1983510278402779_7384761936904192000_n.jpg?_nc_cat=101&_nc_ht=scontent.ftpe8-2.fna&oh=a6b69d794b00e568b754f00f89e11bc0&oe=5CBE2423', 'https://scontent.ftpe8-3.fna.fbcdn.net/v/t1.0-0/p403x403/47139228_2255161891381518_105794235730493440_n.jpg?_nc_cat=107&_nc_ht=scontent.ftpe8-3.fna&oh=f0e2b5ff9a2244650e41d1b6cd1853dc&oe=5CCBEFC1']\n"
     ]
    }
   ],
   "source": [
    "B_alist = []\n",
    "for block in soup.find_all('div',{'class':'_1dwg _1w_m _q7o'}):\n",
    "    blockB = block.find('div',{'class':'_3x-2'}).find_all('div',{'class':'_2a2q _65sr'})\n",
    "    B_alist.append([b.find_all('a')[0] for b in blockB if b != None ])\n",
    "pic = [a[0] for a in B_alist if '<img' in str(a) and len(a)>0]\n",
    "pics = [p.find('img')['src'] for p in pic if 'img' in str(p)]\n",
    "print(pics)"
   ]
  },
  {
   "cell_type": "code",
   "execution_count": 270,
   "metadata": {},
   "outputs": [],
   "source": [
    "for p in pics:    \n",
    "    fname = re.search(r'\\w+\\.jpg',p).group()\n",
    "    with open('F:/getfb/pic/' + fname, 'wb') as f:\n",
    "        res2 = requests.get(p)\n",
    "        f.write(res2.content)"
   ]
  },
  {
   "cell_type": "code",
   "execution_count": 271,
   "metadata": {},
   "outputs": [],
   "source": [
    "driver.close()\n",
    "driver.quit()"
   ]
  }
 ],
 "metadata": {
  "kernelspec": {
   "display_name": "Python 3",
   "language": "python",
   "name": "python3"
  },
  "language_info": {
   "codemirror_mode": {
    "name": "ipython",
    "version": 3
   },
   "file_extension": ".py",
   "mimetype": "text/x-python",
   "name": "python",
   "nbconvert_exporter": "python",
   "pygments_lexer": "ipython3",
   "version": "3.6.5"
  }
 },
 "nbformat": 4,
 "nbformat_minor": 2
}
