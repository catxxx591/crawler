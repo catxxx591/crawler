{
 "cells": [
  {
   "cell_type": "code",
   "execution_count": 1,
   "metadata": {},
   "outputs": [],
   "source": [
    "import requests\n",
    "from bs4 import BeautifulSoup\n",
    "import sqlite3 as lite\n",
    "import time ,re,os"
   ]
  },
  {
   "cell_type": "code",
   "execution_count": 2,
   "metadata": {},
   "outputs": [],
   "source": [
    "from selenium import webdriver\n",
    "from selenium.webdriver.chrome.options import Options\n",
    "from selenium.common.exceptions import NoSuchElementException\n",
    "from PIL import Image,ImageEnhance"
   ]
  },
  {
   "cell_type": "code",
   "execution_count": 3,
   "metadata": {},
   "outputs": [],
   "source": [
    "prefs = {\n",
    "    'profile.default_content_setting_values.notifications' : 2\n",
    "         }\n",
    " \n",
    "chrome_options = Options()\n",
    "#設定自動瀏覽器無痕模式\n",
    "chrome_options.add_argument('--headless')\n",
    "chrome_options.add_argument('--disable-gpu')\n",
    "chrome_options.add_experimental_option('prefs',prefs)\n",
    "\n",
    "path = 'C:/Users/gr11n/chromedriver.exe'"
   ]
  },
  {
   "cell_type": "code",
   "execution_count": 4,
   "metadata": {},
   "outputs": [],
   "source": [
    "def fblogin(useremail,password):\n",
    "    email = driver.find_element_by_id('email')\n",
    "    email.clear()\n",
    "    email.send_keys(useremail)\n",
    "    #email.submit()\n",
    "\n",
    "    psw = driver.find_element_by_id('pass')\n",
    "    psw.clear()\n",
    "    psw.send_keys(password)\n",
    "    psw.submit()\n",
    "\n",
    "    #login = driver.find_element_by_id('u_0_8')\n",
    "    #login = driver.find_element_by_link_text('登入')\n",
    "    #login.click()"
   ]
  },
  {
   "cell_type": "code",
   "execution_count": 5,
   "metadata": {},
   "outputs": [
    {
     "name": "stdout",
     "output_type": "stream",
     "text": [
      "email:········\n",
      "Password:········\n"
     ]
    }
   ],
   "source": [
    "import getpass\n",
    "useremail = getpass.getpass('email:')\n",
    "password = getpass.getpass('Password:')"
   ]
  },
  {
   "cell_type": "code",
   "execution_count": 6,
   "metadata": {},
   "outputs": [],
   "source": [
    "driver = webdriver.Chrome(executable_path=path, chrome_options=chrome_options)\n",
    "\n",
    "driver.implicitly_wait(5)\n",
    "driver.get('https://www.facebook.com/')\n",
    "\n",
    "try:\n",
    "    fblogin(useremail,password)\n",
    "except NoSuchElementException:\n",
    "\n",
    "    userNavigationLabel = driver.find_element_by_id('userNavigationLabel')\n",
    "    userNavigationLabel.click()\n",
    "    driver.implicitly_wait(3)\n",
    "    logout =driver.find_element_by_link_text('登出')\n",
    "    logout.click()\n",
    "    fblogin(useremail,password)"
   ]
  },
  {
   "cell_type": "code",
   "execution_count": 7,
   "metadata": {},
   "outputs": [],
   "source": [
    "driver.implicitly_wait(10)\n",
    "driver.get('https://www.facebook.com/SisyWorldNews/')"
   ]
  },
  {
   "cell_type": "code",
   "execution_count": 8,
   "metadata": {},
   "outputs": [],
   "source": [
    "for i in range(1,10):\n",
    "    driver.execute_script('window.scrollTo(0,document.body.scrollHeight);')\n",
    "    time.sleep(1)\n",
    "time.sleep(3)"
   ]
  },
  {
   "cell_type": "code",
   "execution_count": 9,
   "metadata": {},
   "outputs": [],
   "source": [
    "soup = BeautifulSoup(driver.page_source,\"html5lib\")"
   ]
  },
  {
   "cell_type": "code",
   "execution_count": 10,
   "metadata": {},
   "outputs": [],
   "source": [
    "blocks = soup.find_all('div',{'class':'_1dwg _1w_m _q7o'})"
   ]
  },
  {
   "cell_type": "code",
   "execution_count": 11,
   "metadata": {},
   "outputs": [],
   "source": [
    "blockB = [b.find('div',{'class':'text_exposed_root'})  for b in blocks]"
   ]
  },
  {
   "cell_type": "code",
   "execution_count": 12,
   "metadata": {},
   "outputs": [
    {
     "data": {
      "text/plain": [
       "33"
      ]
     },
     "execution_count": 12,
     "metadata": {},
     "output_type": "execute_result"
    }
   ],
   "source": [
    "len(blockB)"
   ]
  },
  {
   "cell_type": "code",
   "execution_count": 13,
   "metadata": {},
   "outputs": [
    {
     "data": {
      "text/plain": [
       "28"
      ]
     },
     "execution_count": 13,
     "metadata": {},
     "output_type": "execute_result"
    }
   ],
   "source": [
    "ps = [s.find_all(['p','span']) for s in blockB if s != None]\n",
    "len(ps)"
   ]
  },
  {
   "cell_type": "code",
   "execution_count": 14,
   "metadata": {},
   "outputs": [
    {
     "name": "stdout",
     "output_type": "stream",
     "text": [
      "這個世界那怕全暗了，只剩下一點點光明，我們仍要心存善念。 —世界各地煙火 —Paris:  https://m.youtube.com/watch?v=aaYB5G2kyrQ&t=11s⋯⋯ —Paris’ Berlin’ Madrid https://m.youtube.com/watch?v=_pX5aZi5EmA -Rissia Moscow https://m.youtube.com/watch?v=nkVIgVB_Y4o \n"
     ]
    }
   ],
   "source": [
    "txts=[]\n",
    "for p in ps:\n",
    "    txt = \"\"\n",
    "    for s in p:\n",
    "        txt += s.text.replace('\\u200b',\"\")\n",
    "    txts.append(txt.replace('更多更多更多',\"\"))\n",
    "print(txts[0])"
   ]
  },
  {
   "cell_type": "code",
   "execution_count": 15,
   "metadata": {},
   "outputs": [
    {
     "data": {
      "text/plain": [
       "28"
      ]
     },
     "execution_count": 15,
     "metadata": {},
     "output_type": "execute_result"
    }
   ],
   "source": [
    "len(txts)"
   ]
  },
  {
   "cell_type": "code",
   "execution_count": 16,
   "metadata": {},
   "outputs": [
    {
     "data": {
      "text/plain": [
       "28"
      ]
     },
     "execution_count": 16,
     "metadata": {},
     "output_type": "execute_result"
    }
   ],
   "source": [
    "po_times = [b.find('abbr',{'class':'_5ptz'})['title'].split(\" \")[0] for b in blocks if b.find('div',{'class':'text_exposed_root'}) != None]\n",
    "po_stacktimes = [b.find('abbr',{'class':'_5ptz'})['data-utime'] for b in blocks if b.find('div',{'class':'text_exposed_root'}) != None]\n",
    "len(po_times)"
   ]
  },
  {
   "cell_type": "code",
   "execution_count": 17,
   "metadata": {},
   "outputs": [
    {
     "name": "stdout",
     "output_type": "stream",
     "text": [
      "28\n"
     ]
    },
    {
     "data": {
      "text/plain": [
       "28"
      ]
     },
     "execution_count": 17,
     "metadata": {},
     "output_type": "execute_result"
    }
   ],
   "source": [
    "print(len(txts))\n",
    "len(po_stacktimes)"
   ]
  },
  {
   "cell_type": "code",
   "execution_count": 18,
   "metadata": {},
   "outputs": [
    {
     "name": "stdout",
     "output_type": "stream",
     "text": [
      "2019/1/6\n",
      "《2019最值得期待的建築之一：Under》 這家名為Under的酒吧餐廳將是歐洲第一家水下餐廳，由挪威的斯諾赫塔建築事務所（Snøhetta）設計。 整個餐廳一半傾斜沈入海中，如巨大的古老遺址，十分壯觀！⋯⋯ Under，不僅是一個餐廳，也被設計成為海洋環境的一部分，向大海的野生動物群和挪威的南部海岸線致敬。 建築結構採用1公尺混凝土牆，可承受海洋帶來的壓力和衝擊。 餐廳入海處像沈於海中的潛望鏡一樣，透過餐廳的落地窗，可以看到海底的景色，彷彿自己化作海洋生物之中，置身海底世界。 目前，餐廳已經開始接受預訂，第一批用餐者預計2019年4月。 \n"
     ]
    }
   ],
   "source": [
    "print(po_times[15])\n",
    "print(txts[15])"
   ]
  },
  {
   "cell_type": "code",
   "execution_count": 19,
   "metadata": {},
   "outputs": [],
   "source": [
    "import json"
   ]
  },
  {
   "cell_type": "code",
   "execution_count": 24,
   "metadata": {},
   "outputs": [
    {
     "data": {
      "text/plain": [
       "{'stack_time': '1546310563',\n",
       " 'time': '2019/1/1',\n",
       " 'txt': '這個世界那怕全暗了，只剩下一點點光明，我們仍要心存善念。 —世界各地煙火 —Paris:  https://m.youtube.com/watch?v=aaYB5G2kyrQ&t=11s⋯⋯ —Paris’ Berlin’ Madrid https://m.youtube.com/watch?v=_pX5aZi5EmA -Rissia Moscow https://m.youtube.com/watch?v=nkVIgVB_Y4o '}"
      ]
     },
     "execution_count": 24,
     "metadata": {},
     "output_type": "execute_result"
    }
   ],
   "source": [
    "dic = {}\n",
    "for n in range(len(txts)):\n",
    "    dic2 ={}\n",
    "    dic2['time']=po_times[n]\n",
    "    dic2['stack_time']=po_stacktimes[n]\n",
    "    dic2['txt'] = txts[n]\n",
    "    dic[n+1]=dic2\n",
    "dic[1]"
   ]
  },
  {
   "cell_type": "code",
   "execution_count": 25,
   "metadata": {},
   "outputs": [],
   "source": [
    "fbdata = json.dumps(dic,ensure_ascii=False)"
   ]
  },
  {
   "cell_type": "code",
   "execution_count": 26,
   "metadata": {},
   "outputs": [],
   "source": [
    "fb = json.loads(fbdata)"
   ]
  },
  {
   "cell_type": "code",
   "execution_count": 27,
   "metadata": {},
   "outputs": [
    {
     "data": {
      "text/plain": [
       "[{'stack_time': '1546902000',\n",
       "  'time': '2019/1/8',\n",
       "  'txt': '《文茜的世界周報》 {內文} 紐約時報廣場前的民眾，在罕見的淒風苦雨和煙霧瀰漫中送走了2018，迎來了2019。沒想到隔天的美國股市，果真跟著烏雲罩頂，一開張就讓投資人跌落百里深淵。⋯⋯ (CNN資深財經記者) 2019年股市頭一天開張，跟2018年最後一天收盤的情況如出一轍，上下震盪，危機四伏，主要還是受到全球經濟成長降溫、美國聯準會升息、美中貿易戰的恐懼籠罩所致。 事實上，拜前年經濟底氣強勁之賜，2018年金融市場一開局就是榮景，一度還顯得動能充沛。儘管當時世界銀行曾發出警告，認為總體經濟形勢並不如想像中樂觀，但投資人充耳不聞，持續沉浸在股市嘉年華派對中。不料高興一個月後，市場就傳出首波噩耗，此後陸續受到美國總統川普掀起關稅爭端、新興市場政治動盪、中國大陸經濟成長趨緩等一波波負面因素襲擊，導致金融市場載浮載沉，不確定持續累積，直到十月份達到頂點，上演豬羊變色。總計2018年金融市場一共遭逢了好幾記轟天雷，重創標普五百指數和其他風險性資產，其中最嚴重的有兩次。一次在二月，肇因是恐慌指數（VIX）出現劇烈波動。另一次則在十月，受美國聯準會升高升息警告、以及大型科技股重挫的雙重夾擊。 (Katie Martin\\\\英國金融時報資本市場新聞主編) 科技股重挫原本只被視為暫時性現象，但十一月到十二月這段期間的復甦，證明反彈只是稍縱即逝。2019年會有更多波動，不少投資人認為這將會是由三種動物：牛（市）、熊（市）和袋鼠（避險）穿插活動的一年。 股市荒腔走板，不斷挑戰投資人的心臟強度。尤其囊括所有類股、反映景氣榮衰指標的標普五百指數在八月間還曾因美國經濟表現強勁而創下歷史新高，沒想到四個月後轉眼成空，淪為近十年來表現最差的一次。全球主要股市，包括中國大陸、香港、日本、德國和英國，也都慘遭大失血。此外，一向被認為安分守己的債市也在2018下半年也變得不可靠，其中以美國長天期公債一路走跌最令人傻眼。外匯市場同樣弔詭，除了土耳其里拉等一籮筐新興市場貨幣受政治不穩定衝擊而躺平，就連一向扮演壓力避風港的瑞士法郎和日圓竟也跟著走鐘，不升反跌。更別提炒了十年的虛擬加密貨幣比特幣全面泡沫化。時序邁入2019年，全球經濟活動將呈現何種樣貌呢？ (Rana Foroohar\\\\金融時報專欄作家) 有些是我們在2018年就已有心裡準備的事。全球正步入歷史上十年復甦週期的尾聲，這是成長開始趨緩的時刻。如果你繼續往前看，進入2019年，在2020年前，全球都會看到衰退。在最近的一次調查中，超過一半的企業財務長都抱持這種看法。話雖如此，美國總統川普竟然持續釋放不利市場的消息，不只公開批評聯準會主席，還掀起貿易爭端，和中國大陸大打\\u3000關稅戰。要知道在過去幾年間，中國大陸在全球經濟成長中扮演著最重要的角色，因此如果你看到中國大陸經濟成長減速，代表全球經濟將有大麻煩了。 中國大陸日前公布採購經理人指數（PMI）來到49.4，是2016年七月以來首次跌破榮枯線，顯示中國大陸製造業景氣萎縮，經濟面臨嚴峻的下行風險，引發各地股市跟進下挫。日本經濟新聞引述市場分析和政府數據指出，亞洲地區經濟在邁入2019年上半年時，將因中國大陸成長趨緩的漣漪效應而全面受到拖累。除了因中國大陸內需停滯，懸而未決的美中貿易戰也是衝擊成長關鍵因素。倘若如此，以美國和中國大陸經濟互動的複雜程度，中國打噴嚏，也會讓美國難以持續獨強。 (Rana Foroohar\\\\金融時報專欄作家) 中國大陸經濟成長會出現顯著降溫，並將以前所未見的方式衝擊其他新興市場。二十年前，中國大陸經濟若是走緩，全世界頂多咳嗽兩聲就沒事了。但現在的中國大陸經濟若是趨緩，尤其又碰上美中貿易磨擦，中國打噴嚏，全世界都會跟著感冒，連帶美國也會被感染。 分析認為，除了美國和中國大陸之外，步履蹣跚的德國、面臨預算困境的義大利政府、英國脫歐等自2017年底就出現的重大事件，不僅攸關歐盟政治團結和經濟復甦，更將持續影響著全球金融市場。投資銀行野村日前在發給投資人的報告中，整理出2019年值得觀察、足以撼動國際經濟穩定的九大「灰天鵝」事件，包括民粹主義告終、石油價格跌至每桶二十美元、金融市場大地震、義大利起死回生、新興市場通縮、人民幣反彈、全球經濟成長起飛、歐元區通縮、通膨飆升。 (Bilal Hafeez\\\\野村證券環球外匯分析師) 其中最大的風險，在我看來莫過於金融市場大地震，也就是類似2008年那樣的金融危機，雖然不完全一樣，但規模可能相去不遠。在過去一整年當中，我們看到好幾個市場出狀況，看到新興市場貨幣直直落，看到美股崩盤，但至少尚未真正看到每個單一市場同步下挫的情況，因此我擔心，每個曾拉警報的市場，接下來會出現不約而同崩盤的狀況，讓投資人甚至總體經濟的日子十分難過。 全球央行歷經過去幾年的量化寬鬆措施後，正先後進入量化緊縮的階段，手中已無多餘子彈足供運用，在可預見的未來，全球經濟將充滿更多未知。而就在這個星期四，具有產業指標性意義的蘋果電腦，以中國大陸市場業績疲軟為由，向下修正2018年第四季獲利展望，股價閃崩達百分之十，引爆美股和隔天開盤的亞股全面休克。英國經濟學人雜誌警告，蘋果的表現，反映出全球經濟的走向，而市場更多的賣壓，恐怕也正蠢蠢欲動。 https://www.youtube.com/watch?v=7nAcExZYCk4 '}]"
      ]
     },
     "execution_count": 27,
     "metadata": {},
     "output_type": "execute_result"
    }
   ],
   "source": [
    "[v for v in fb.values() if  ('2019/1/8' in v['time'])]"
   ]
  },
  {
   "cell_type": "code",
   "execution_count": 28,
   "metadata": {},
   "outputs": [],
   "source": [
    "driver.close()\n",
    "driver.quit()"
   ]
  }
 ],
 "metadata": {
  "kernelspec": {
   "display_name": "Python 3",
   "language": "python",
   "name": "python3"
  },
  "language_info": {
   "codemirror_mode": {
    "name": "ipython",
    "version": 3
   },
   "file_extension": ".py",
   "mimetype": "text/x-python",
   "name": "python",
   "nbconvert_exporter": "python",
   "pygments_lexer": "ipython3",
   "version": "3.6.5"
  }
 },
 "nbformat": 4,
 "nbformat_minor": 2
}
